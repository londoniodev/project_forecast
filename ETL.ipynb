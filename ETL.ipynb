{
 "cells": [
  {
   "cell_type": "markdown",
   "metadata": {},
   "source": [
    "Este es el proyecto de lavoro para la implementacion de modelos de Machine Learning y automatizacion de procesos para el area de operacion de AgroLavoro\n",
    "\n",
    "Empezamos importando las librerias necesarias:"
   ]
  },
  {
   "cell_type": "code",
   "execution_count": 12,
   "metadata": {},
   "outputs": [],
   "source": [
    "import pandas as pd\n",
    "import openpyxl as xlsx\n",
    "import glob\n",
    "import os"
   ]
  },
  {
   "cell_type": "markdown",
   "metadata": {},
   "source": [
    "Establecemos los orgines de datos"
   ]
  },
  {
   "cell_type": "code",
   "execution_count": 28,
   "metadata": {},
   "outputs": [],
   "source": [
    "ruta_ventas_agrointegral = \"C:\\\\Users\\\\Pc\\\\Agricultura y Servicios S.A\\\\Analisis Logístico Lavoro - Analisis Logistico\\\\4.3. VENTAS BLOQUEADAS\\\\GRAL\\\\AGROINTEGRAL\\\\\"\n",
    "ruta_ventas_agrac = \"C:\\\\Users\\\\Pc\\\\Agricultura y Servicios S.A\\\\Analisis Logístico Lavoro - Analisis Logistico\\\\4.3. VENTAS BLOQUEADAS\\\\GRAL\\\\AGRAC\\\\\"\n",
    "ruta_ventas_agse = \"C:\\\\Users\\\\Pc\\\\Agricultura y Servicios S.A\\\\Analisis Logístico Lavoro - Analisis Logistico\\\\4.3. VENTAS BLOQUEADAS\\\\AGSE\""
   ]
  },
  {
   "cell_type": "markdown",
   "metadata": {},
   "source": [
    "Hacemos consulta a una carpeta de archivo e iteramos mediante un bucle"
   ]
  },
  {
   "cell_type": "code",
   "execution_count": null,
   "metadata": {},
   "outputs": [
    {
     "name": "stdout",
     "output_type": "stream",
     "text": [
      "AGROINTEGRAL: (691418, 61)\n",
      "AGRAC: (124363, 61)\n",
      "AGSE: (201175, 61)\n"
     ]
    }
   ],
   "source": [
    "#Se obtiene la lista de todos los elementos que terminen en '.xlsx'\n",
    "ventas_csv_agrointegral = glob.glob(os.path.join(ruta_ventas_agrointegral, \"*.xlsx\"))\n",
    "ventas_csv_agrac = glob.glob(os.path.join(ruta_ventas_agrac, \"*.xlsx\"))\n",
    "ventas_csv_agse = glob.glob(os.path.join(ruta_ventas_agse, \"*.xlsx\"))\n",
    "\n",
    "#Se hace una lista de todos los df\n",
    "lista_df_agrointegral=[pd.read_excel(archivo) for archivo in ventas_csv_agrointegral]\n",
    "lista_df_agrac=[pd.read_excel(archivo) for archivo in ventas_csv_agrac]\n",
    "lista_df_agse=[pd.read_excel(archivo) for archivo in ventas_csv_agse]\n",
    "\n",
    "#Se unifican todos los df de la lista en uno solo\n",
    "ventas_df_agrointegral = pd.concat(lista_df_agrointegral, ignore_index= True)\n",
    "ventas_df_agrac = pd.concat(lista_df_agrac, ignore_index= True)\n",
    "ventas_df_agse = pd.concat(lista_df_agse, ignore_index= True)\n",
    "\n",
    "#Validamos las dimensiones de los df\n",
    "print(f'AGROINTEGRAL: {ventas_df_agrointegral.shape}')\n",
    "print(f'AGRAC: {ventas_df_agrac.shape}')\n",
    "print(f'AGSE: {ventas_df_agse.shape}')"
   ]
  },
  {
   "cell_type": "markdown",
   "metadata": {},
   "source": [
    "Elegimos que columnas vamos a usar:"
   ]
  },
  {
   "cell_type": "code",
   "execution_count": 32,
   "metadata": {},
   "outputs": [],
   "source": [
    "cols_to_use = ['Nombre vendedor','FECHA', 'SUB ZONA', 'ZONA', 'No. de Parte', 'Cantidad', 'Ingreso por Venta', 'Bodega Despacho']"
   ]
  },
  {
   "cell_type": "markdown",
   "metadata": {},
   "source": [
    "Porcedemos a filtrar las columnas anteriormente mencionadas"
   ]
  },
  {
   "cell_type": "code",
   "execution_count": null,
   "metadata": {},
   "outputs": [
    {
     "name": "stdout",
     "output_type": "stream",
     "text": [
      "AGROINTEGRAL: (691418, 8)\n",
      "AGRAC: (124363, 8)\n",
      "AGSE: (201175, 8)\n"
     ]
    }
   ],
   "source": [
    "ventas_df_agrointegral = ventas_df_agrointegral[cols_to_use]\n",
    "ventas_df_agrac = ventas_df_agrac[cols_to_use]\n",
    "ventas_df_agse = ventas_df_agse[cols_to_use]\n",
    "\n",
    "#Validamos las dimensiones de los df\n",
    "print(f'AGROINTEGRAL: {ventas_df_agrointegral.shape}')\n",
    "print(f'AGRAC: {ventas_df_agrac.shape}')\n",
    "print(f'AGSE: {ventas_df_agse.shape}')"
   ]
  },
  {
   "cell_type": "markdown",
   "metadata": {},
   "source": [
    "Añadimos el nombre de la compañía a cada df"
   ]
  },
  {
   "cell_type": "code",
   "execution_count": 36,
   "metadata": {},
   "outputs": [
    {
     "name": "stdout",
     "output_type": "stream",
     "text": [
      "AGROINTEGRAL: (691418, 9)\n",
      "AGRAC: (124363, 9)\n",
      "AGSE: (201175, 9)\n"
     ]
    }
   ],
   "source": [
    "ventas_df_agrointegral['COMPAÑIA'] = \"Agrointegral\"\n",
    "ventas_df_agrac['COMPAÑIA'] = \"Agrac\"\n",
    "ventas_df_agse['COMPAÑIA'] = \"Agricultura y Servicio\"\n",
    "\n",
    "#Validamos las dimensiones de los df\n",
    "print(f'AGROINTEGRAL: {ventas_df_agrointegral.shape}')\n",
    "print(f'AGRAC: {ventas_df_agrac.shape}')\n",
    "print(f'AGSE: {ventas_df_agse.shape}')"
   ]
  }
 ],
 "metadata": {
  "kernelspec": {
   "display_name": "Python 3",
   "language": "python",
   "name": "python3"
  },
  "language_info": {
   "codemirror_mode": {
    "name": "ipython",
    "version": 3
   },
   "file_extension": ".py",
   "mimetype": "text/x-python",
   "name": "python",
   "nbconvert_exporter": "python",
   "pygments_lexer": "ipython3",
   "version": "3.12.2"
  }
 },
 "nbformat": 4,
 "nbformat_minor": 2
}
